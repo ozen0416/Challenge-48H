{
 "cells": [
  {
   "cell_type": "code",
   "execution_count": null,
   "metadata": {},
   "outputs": [],
   "source": [
    "import pandas as pd\n",
    "import scikit-learn as sklearn"
   ]
  },
  {
   "cell_type": "code",
   "execution_count": null,
   "metadata": {},
   "outputs": [],
   "source": [
    "X_full = pd.read_csv('data/train_data.csv')\n",
    "X_test_full = pd.read_csv('data/test_data.csv')\n",
    "\n",
    "\n",
    "# Sélection directe des colonnes demandées\n",
    "X_full = X_full[['LotArea', 'OverallQual', 'OverallCond', 'YearRemodAdd', 'GrLivArea', \n",
    "                'FullBath', 'BedroomAbvGr', 'KitchenQual', 'GarageCars', 'GarageArea', 'MoSold']]\n",
    "X_test_full = X_test_full[['LotArea', 'OverallQual', 'OverallCond', 'YearRemodAdd', 'GrLivArea', \n",
    "                         'FullBath', 'BedroomAbvGr', 'KitchenQual', 'GarageCars', 'GarageArea', 'MoSold']]\n",
    "\n",
    "# Ex (Excellet) > Gd (Good) > TA (Typical/Average)\n",
    "kitchen_qual_map = {'Ex': 3, 'Gd': 2, 'TA': 1}\n",
    "X_full['KitchenQual'] = X_full['KitchenQual'].map(kitchen_qual_map)\n",
    "X_test_full['KitchenQual'] = X_test_full['KitchenQual'].map(kitchen_qual_map)\n",
    "\n",
    "# Vérifier s'il y a des valeurs manquantes après la conversion\n",
    "print(\"Valeurs manquantes dans KitchenQual après conversion :\", \n",
    "      X_full['KitchenQual'].isna().sum(), \"dans X_full,\",\n",
    "      X_test_full['KitchenQual'].isna().sum(), \"dans X_test_full\")\n",
    "\n",
    "# Si des valeurs manquantes existent, les remplacer par la médiane\n",
    "if X_full['KitchenQual'].isna().sum() > 0:\n",
    "    X_full['KitchenQual'].fillna(X_full['KitchenQual'].median(), inplace=True)\n",
    "if X_test_full['KitchenQual'].isna().sum() > 0:\n",
    "    X_test_full['KitchenQual'].fillna(X_full['KitchenQual'].median(), inplace=True)\n",
    "\n",
    "X = X_full\n",
    "X_test = X_test_full\n",
    "\n",
    "X_train, X_valid, y_train, y_valid = train_test_split(X, y, train_size=0.8, test_size=0.2, random_state=0)"
   ]
  }
 ],
 "metadata": {
  "kernelspec": {
   "display_name": "Python 3",
   "language": "python",
   "name": "python3"
  },
  "language_info": {
   "name": "python",
   "version": "3.13.2"
  }
 },
 "nbformat": 4,
 "nbformat_minor": 2
}
