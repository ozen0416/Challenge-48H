{
 "cells": [
  {
   "cell_type": "code",
   "execution_count": 6,
   "id": "initial_id",
   "metadata": {
    "ExecuteTime": {
<<<<<<< HEAD
     "end_time": "2025-03-31T09:42:34.861293Z",
     "start_time": "2025-03-31T09:42:34.852474Z"
    }
=======
     "end_time": "2025-03-31T07:49:34.217235Z",
     "start_time": "2025-03-31T07:49:31.970073Z"
    },
    "collapsed": true
>>>>>>> 0c19cb2802cfc1972896ca1c75d9a0356e99c33a
   },
   "outputs": [],
   "source": [
    "import pandas as pd\n",
    "from sklearn.model_selection import train_test_split"
<<<<<<< HEAD
   ],
   "outputs": [],
   "execution_count": 13
=======
   ]
>>>>>>> 0c19cb2802cfc1972896ca1c75d9a0356e99c33a
  },
  {
   "cell_type": "code",
   "execution_count": 7,
   "id": "475b5ebcd9634238",
   "metadata": {
    "ExecuteTime": {
     "end_time": "2025-03-31T09:42:34.982366Z",
     "start_time": "2025-03-31T09:42:34.882431Z"
    }
   },
   "outputs": [],
   "source": [
    "X_full = pd.read_csv('data/train.csv')\n",
    "X_test_full = pd.read_csv('data/test.csv')\n",
    "\n",
    "X_train_selection = X_full[[ 'Id','LotArea','OverallQual', 'OverallCond', 'YearRemodAdd', 'TotalBsmtSF', 'GarageCars', 'GarageArea', 'GrLivArea', 'FullBath', 'BedroomAbvGr', 'KitchenQual', 'MoSold']]\n",
    "X_test_selection = X_test_full[[ 'Id','LotArea','OverallQual', 'OverallCond', 'YearRemodAdd', 'TotalBsmtSF', 'GarageCars', 'GarageArea', 'GrLivArea', 'FullBath', 'BedroomAbvGr', 'KitchenQual', 'MoSold']]\n",
    "\n",
<<<<<<< HEAD
    "X_train, X_valid, y_train, y_valid = train_test_split(X_train_selection, y, train_size=0.8, test_size=0.2, random_state=0)\n",
    "\n",
    "X_train.head()"
   ],
   "id": "475b5ebcd9634238",
   "outputs": [
    {
     "data": {
      "text/plain": [
       "      Id  LotArea  OverallQual  OverallCond  YearRemodAdd  TotalBsmtSF  \\\n",
       "618  619    11694            9            5          2007         1822   \n",
       "870  871     6600            5            5          1962          894   \n",
       "92    93    13360            5            7          2006          876   \n",
       "817  818    13265            8            5          2002         1568   \n",
       "302  303    13704            7            5          2002         1541   \n",
       "\n",
       "     GarageCars  GarageArea  GrLivArea  FullBath  BedroomAbvGr KitchenQual  \\\n",
       "618           3         774       1828         2             3          Gd   \n",
       "870           1         308        894         1             2          TA   \n",
       "92            2         432        964         1             2          TA   \n",
       "817           3         857       1689         2             3          Gd   \n",
       "302           3         843       1541         2             3          Gd   \n",
       "\n",
       "     MoSold  \n",
       "618       7  \n",
       "870       8  \n",
       "92        8  \n",
       "817       7  \n",
       "302       1  "
      ],
      "text/html": [
       "<div>\n",
       "<style scoped>\n",
       "    .dataframe tbody tr th:only-of-type {\n",
       "        vertical-align: middle;\n",
       "    }\n",
       "\n",
       "    .dataframe tbody tr th {\n",
       "        vertical-align: top;\n",
       "    }\n",
       "\n",
       "    .dataframe thead th {\n",
       "        text-align: right;\n",
       "    }\n",
       "</style>\n",
       "<table border=\"1\" class=\"dataframe\">\n",
       "  <thead>\n",
       "    <tr style=\"text-align: right;\">\n",
       "      <th></th>\n",
       "      <th>Id</th>\n",
       "      <th>LotArea</th>\n",
       "      <th>OverallQual</th>\n",
       "      <th>OverallCond</th>\n",
       "      <th>YearRemodAdd</th>\n",
       "      <th>TotalBsmtSF</th>\n",
       "      <th>GarageCars</th>\n",
       "      <th>GarageArea</th>\n",
       "      <th>GrLivArea</th>\n",
       "      <th>FullBath</th>\n",
       "      <th>BedroomAbvGr</th>\n",
       "      <th>KitchenQual</th>\n",
       "      <th>MoSold</th>\n",
       "    </tr>\n",
       "  </thead>\n",
       "  <tbody>\n",
       "    <tr>\n",
       "      <th>618</th>\n",
       "      <td>619</td>\n",
       "      <td>11694</td>\n",
       "      <td>9</td>\n",
       "      <td>5</td>\n",
       "      <td>2007</td>\n",
       "      <td>1822</td>\n",
       "      <td>3</td>\n",
       "      <td>774</td>\n",
       "      <td>1828</td>\n",
       "      <td>2</td>\n",
       "      <td>3</td>\n",
       "      <td>Gd</td>\n",
       "      <td>7</td>\n",
       "    </tr>\n",
       "    <tr>\n",
       "      <th>870</th>\n",
       "      <td>871</td>\n",
       "      <td>6600</td>\n",
       "      <td>5</td>\n",
       "      <td>5</td>\n",
       "      <td>1962</td>\n",
       "      <td>894</td>\n",
       "      <td>1</td>\n",
       "      <td>308</td>\n",
       "      <td>894</td>\n",
       "      <td>1</td>\n",
       "      <td>2</td>\n",
       "      <td>TA</td>\n",
       "      <td>8</td>\n",
       "    </tr>\n",
       "    <tr>\n",
       "      <th>92</th>\n",
       "      <td>93</td>\n",
       "      <td>13360</td>\n",
       "      <td>5</td>\n",
       "      <td>7</td>\n",
       "      <td>2006</td>\n",
       "      <td>876</td>\n",
       "      <td>2</td>\n",
       "      <td>432</td>\n",
       "      <td>964</td>\n",
       "      <td>1</td>\n",
       "      <td>2</td>\n",
       "      <td>TA</td>\n",
       "      <td>8</td>\n",
       "    </tr>\n",
       "    <tr>\n",
       "      <th>817</th>\n",
       "      <td>818</td>\n",
       "      <td>13265</td>\n",
       "      <td>8</td>\n",
       "      <td>5</td>\n",
       "      <td>2002</td>\n",
       "      <td>1568</td>\n",
       "      <td>3</td>\n",
       "      <td>857</td>\n",
       "      <td>1689</td>\n",
       "      <td>2</td>\n",
       "      <td>3</td>\n",
       "      <td>Gd</td>\n",
       "      <td>7</td>\n",
       "    </tr>\n",
       "    <tr>\n",
       "      <th>302</th>\n",
       "      <td>303</td>\n",
       "      <td>13704</td>\n",
       "      <td>7</td>\n",
       "      <td>5</td>\n",
       "      <td>2002</td>\n",
       "      <td>1541</td>\n",
       "      <td>3</td>\n",
       "      <td>843</td>\n",
       "      <td>1541</td>\n",
       "      <td>2</td>\n",
       "      <td>3</td>\n",
       "      <td>Gd</td>\n",
       "      <td>1</td>\n",
       "    </tr>\n",
       "  </tbody>\n",
       "</table>\n",
       "</div>"
      ]
     },
     "execution_count": 14,
     "metadata": {},
     "output_type": "execute_result"
    }
   ],
   "execution_count": 14
  },
  {
   "metadata": {
    "ExecuteTime": {
     "end_time": "2025-03-31T09:42:35.163232Z",
     "start_time": "2025-03-31T09:42:35.149632Z"
    }
   },
   "cell_type": "code",
   "source": "print(X_train.shape)",
   "id": "5958d2dc3169e8e",
   "outputs": [
    {
     "name": "stdout",
     "output_type": "stream",
     "text": [
      "(1168, 13)\n"
     ]
    }
   ],
   "execution_count": 15
  },
  {
   "metadata": {
    "ExecuteTime": {
     "end_time": "2025-03-31T09:42:35.311625Z",
     "start_time": "2025-03-31T09:42:35.274358Z"
    }
   },
   "cell_type": "code",
   "source": [
    "missing_val_count_by_column = (X_train.isnull().sum())\n",
    "print(missing_val_count_by_column[missing_val_count_by_column > 0])"
   ],
   "id": "76502db382fa3b85",
   "outputs": [
    {
     "name": "stdout",
     "output_type": "stream",
     "text": [
      "Series([], dtype: int64)\n"
     ]
    }
   ],
   "execution_count": 16
  },
  {
   "metadata": {
    "ExecuteTime": {
     "end_time": "2025-03-31T09:43:24.402163Z",
     "start_time": "2025-03-31T09:43:24.379556Z"
    }
   },
   "cell_type": "code",
   "source": [
    "X_train_selection.to_csv('data/train_data.csv', index=False)\n",
    "X_test_selection.to_csv('data/test_data.csv', index=False)"
   ],
   "id": "3c6ccb146475536",
   "outputs": [],
   "execution_count": 18
  },
  {
   "metadata": {},
   "cell_type": "code",
   "outputs": [],
   "execution_count": null,
   "source": "sale_price = pd.read_csv('data/sample_submission.csv')",
   "id": "301a503d7ace5085"
=======
    "# Sélection directe des colonnes demandées\n",
    "X_full = X_full[['LotArea', 'OverallQual', 'OverallCond', 'YearRemodAdd', 'GrLivArea', \n",
    "                'FullBath', 'BedroomAbvGr', 'KitchenQual', 'GarageCars', 'GarageArea', 'MoSold']]\n",
    "X_test_full = X_test_full[['LotArea', 'OverallQual', 'OverallCond', 'YearRemodAdd', 'GrLivArea', \n",
    "                         'FullBath', 'BedroomAbvGr', 'KitchenQual', 'GarageCars', 'GarageArea', 'MoSold']]\n",
    "\n",
    "X = X_full\n",
    "X_test = X_test_full\n",
    "\n",
    "X_train, X_valid, y_train, y_valid = train_test_split(X, y, train_size=0.8, test_size=0.2, random_state=0)\n",
    "\n",
    "X.to_csv('data/train_data.csv', index=False)\n",
    "X_test.to_csv('data/test_data.csv', index=False)\n"
   ]
>>>>>>> 0c19cb2802cfc1972896ca1c75d9a0356e99c33a
  }
 ],
 "metadata": {
  "kernelspec": {
   "display_name": "Python 3",
   "language": "python",
   "name": "python3"
  },
  "language_info": {
   "codemirror_mode": {
    "name": "ipython",
    "version": 3
   },
   "file_extension": ".py",
   "mimetype": "text/x-python",
   "name": "python",
   "nbconvert_exporter": "python",
   "pygments_lexer": "ipython3",
   "version": "3.13.2"
  }
 },
 "nbformat": 4,
 "nbformat_minor": 5
}
