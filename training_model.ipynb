{
 "cells": [
  {
   "cell_type": "code",
   "execution_count": 6,
   "id": "initial_id",
   "metadata": {
    "ExecuteTime": {
     "end_time": "2025-03-31T07:49:34.217235Z",
     "start_time": "2025-03-31T07:49:31.970073Z"
    },
    "collapsed": true
   },
   "outputs": [],
   "source": [
    "import pandas as pd\n",
    "from sklearn.model_selection import train_test_split"
   ]
  },
  {
   "cell_type": "code",
   "execution_count": 7,
   "id": "475b5ebcd9634238",
   "metadata": {
    "ExecuteTime": {
     "end_time": "2025-03-31T07:49:36.726937Z",
     "start_time": "2025-03-31T07:49:36.627916Z"
    }
   },
   "outputs": [],
   "source": [
    "X_full = pd.read_csv('data/train.csv')\n",
    "X_test_full = pd.read_csv('data/test.csv')\n",
    "\n",
    "X_full.dropna(axis=0, subset=['SalePrice'],inplace=True)\n",
    "y = X_full.SalePrice\n",
    "X_full.drop(['SalePrice'], axis=1, inplace=True)\n",
    "\n",
    "# Sélection directe des colonnes demandées\n",
    "X_full = X_full[['LotArea', 'OverallQual', 'OverallCond', 'YearRemodAdd', 'GrLivArea', \n",
    "                'FullBath', 'BedroomAbvGr', 'KitchenQual', 'GarageCars', 'GarageArea', 'MoSold']]\n",
    "X_test_full = X_test_full[['LotArea', 'OverallQual', 'OverallCond', 'YearRemodAdd', 'GrLivArea', \n",
    "                         'FullBath', 'BedroomAbvGr', 'KitchenQual', 'GarageCars', 'GarageArea', 'MoSold']]\n",
    "\n",
    "X = X_full\n",
    "X_test = X_test_full\n",
    "\n",
    "X_train, X_valid, y_train, y_valid = train_test_split(X, y, train_size=0.8, test_size=0.2, random_state=0)\n",
    "\n",
    "X.to_csv('data/train_data.csv', index=False)\n",
    "X_test.to_csv('data/test_data.csv', index=False)\n"
   ]
  }
 ],
 "metadata": {
  "kernelspec": {
   "display_name": "Python 3",
   "language": "python",
   "name": "python3"
  },
  "language_info": {
   "codemirror_mode": {
    "name": "ipython",
    "version": 3
   },
   "file_extension": ".py",
   "mimetype": "text/x-python",
   "name": "python",
   "nbconvert_exporter": "python",
   "pygments_lexer": "ipython3",
   "version": "3.13.2"
  }
 },
 "nbformat": 4,
 "nbformat_minor": 5
}
