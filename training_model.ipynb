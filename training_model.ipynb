{
 "cells": [
  {
   "cell_type": "code",
   "id": "initial_id",
   "metadata": {
    "collapsed": true,
    "ExecuteTime": {
     "end_time": "2025-03-31T08:05:16.355673Z",
     "start_time": "2025-03-31T08:05:16.350708Z"
    }
   },
   "source": [
    "import pandas as pd\n",
    "from sklearn.model_selection import train_test_split"
   ],
   "outputs": [],
   "execution_count": 5
  },
  {
   "metadata": {
    "ExecuteTime": {
     "end_time": "2025-03-31T08:07:35.508171Z",
     "start_time": "2025-03-31T08:07:35.443448Z"
    }
   },
   "cell_type": "code",
   "source": [
    "X_full = pd.read_csv('data/train.csv')\n",
    "X_test_full = pd.read_csv('data/test.csv')\n",
    "\n",
    "X_full.dropna(axis=0, subset=['SalePrice'],inplace=True)\n",
    "y = X_full.SalePrice\n",
    "X_full.drop(['SalePrice'], axis=1, inplace=True)\n",
    "\n",
    "X_train_selection = X_full[['LotArea','OverallQual', 'OverallCond', 'YearRemodAdd', 'TotalBsmtSF', 'GarageCars', 'GarageArea', 'GrLivArea', 'FullBath', 'BedroomAbvGr', 'KitchenQual', 'MoSold']]\n",
    "X_test_selection = X_test_full[['LotArea','OverallQual', 'OverallCond', 'YearRemodAdd', 'TotalBsmtSF', 'GarageCars', 'GarageArea', 'GrLivArea', 'FullBath', 'BedroomAbvGr', 'KitchenQual', 'MoSold']]\n",
    "\n",
    "X_train, X_valid, y_train, y_valid = train_test_split(X_train_selection, y, train_size=0.8, test_size=0.2, random_state=0)\n",
    "\n",
    "X_train.head()"
   ],
   "id": "475b5ebcd9634238",
   "outputs": [
    {
     "data": {
      "text/plain": [
       "     LotArea  OverallQual  OverallCond  YearRemodAdd  TotalBsmtSF  GarageCars  \\\n",
       "618    11694            9            5          2007         1822           3   \n",
       "870     6600            5            5          1962          894           1   \n",
       "92     13360            5            7          2006          876           2   \n",
       "817    13265            8            5          2002         1568           3   \n",
       "302    13704            7            5          2002         1541           3   \n",
       "\n",
       "     GarageArea  GrLivArea  FullBath  BedroomAbvGr KitchenQual  MoSold  \n",
       "618         774       1828         2             3          Gd       7  \n",
       "870         308        894         1             2          TA       8  \n",
       "92          432        964         1             2          TA       8  \n",
       "817         857       1689         2             3          Gd       7  \n",
       "302         843       1541         2             3          Gd       1  "
      ],
      "text/html": [
       "<div>\n",
       "<style scoped>\n",
       "    .dataframe tbody tr th:only-of-type {\n",
       "        vertical-align: middle;\n",
       "    }\n",
       "\n",
       "    .dataframe tbody tr th {\n",
       "        vertical-align: top;\n",
       "    }\n",
       "\n",
       "    .dataframe thead th {\n",
       "        text-align: right;\n",
       "    }\n",
       "</style>\n",
       "<table border=\"1\" class=\"dataframe\">\n",
       "  <thead>\n",
       "    <tr style=\"text-align: right;\">\n",
       "      <th></th>\n",
       "      <th>LotArea</th>\n",
       "      <th>OverallQual</th>\n",
       "      <th>OverallCond</th>\n",
       "      <th>YearRemodAdd</th>\n",
       "      <th>TotalBsmtSF</th>\n",
       "      <th>GarageCars</th>\n",
       "      <th>GarageArea</th>\n",
       "      <th>GrLivArea</th>\n",
       "      <th>FullBath</th>\n",
       "      <th>BedroomAbvGr</th>\n",
       "      <th>KitchenQual</th>\n",
       "      <th>MoSold</th>\n",
       "    </tr>\n",
       "  </thead>\n",
       "  <tbody>\n",
       "    <tr>\n",
       "      <th>618</th>\n",
       "      <td>11694</td>\n",
       "      <td>9</td>\n",
       "      <td>5</td>\n",
       "      <td>2007</td>\n",
       "      <td>1822</td>\n",
       "      <td>3</td>\n",
       "      <td>774</td>\n",
       "      <td>1828</td>\n",
       "      <td>2</td>\n",
       "      <td>3</td>\n",
       "      <td>Gd</td>\n",
       "      <td>7</td>\n",
       "    </tr>\n",
       "    <tr>\n",
       "      <th>870</th>\n",
       "      <td>6600</td>\n",
       "      <td>5</td>\n",
       "      <td>5</td>\n",
       "      <td>1962</td>\n",
       "      <td>894</td>\n",
       "      <td>1</td>\n",
       "      <td>308</td>\n",
       "      <td>894</td>\n",
       "      <td>1</td>\n",
       "      <td>2</td>\n",
       "      <td>TA</td>\n",
       "      <td>8</td>\n",
       "    </tr>\n",
       "    <tr>\n",
       "      <th>92</th>\n",
       "      <td>13360</td>\n",
       "      <td>5</td>\n",
       "      <td>7</td>\n",
       "      <td>2006</td>\n",
       "      <td>876</td>\n",
       "      <td>2</td>\n",
       "      <td>432</td>\n",
       "      <td>964</td>\n",
       "      <td>1</td>\n",
       "      <td>2</td>\n",
       "      <td>TA</td>\n",
       "      <td>8</td>\n",
       "    </tr>\n",
       "    <tr>\n",
       "      <th>817</th>\n",
       "      <td>13265</td>\n",
       "      <td>8</td>\n",
       "      <td>5</td>\n",
       "      <td>2002</td>\n",
       "      <td>1568</td>\n",
       "      <td>3</td>\n",
       "      <td>857</td>\n",
       "      <td>1689</td>\n",
       "      <td>2</td>\n",
       "      <td>3</td>\n",
       "      <td>Gd</td>\n",
       "      <td>7</td>\n",
       "    </tr>\n",
       "    <tr>\n",
       "      <th>302</th>\n",
       "      <td>13704</td>\n",
       "      <td>7</td>\n",
       "      <td>5</td>\n",
       "      <td>2002</td>\n",
       "      <td>1541</td>\n",
       "      <td>3</td>\n",
       "      <td>843</td>\n",
       "      <td>1541</td>\n",
       "      <td>2</td>\n",
       "      <td>3</td>\n",
       "      <td>Gd</td>\n",
       "      <td>1</td>\n",
       "    </tr>\n",
       "  </tbody>\n",
       "</table>\n",
       "</div>"
      ]
     },
     "execution_count": 7,
     "metadata": {},
     "output_type": "execute_result"
    }
   ],
   "execution_count": 7
  },
  {
   "metadata": {
    "ExecuteTime": {
     "end_time": "2025-03-31T08:11:17.620876Z",
     "start_time": "2025-03-31T08:11:17.609371Z"
    }
   },
   "cell_type": "code",
   "source": "print(X_train.shape)",
   "id": "5958d2dc3169e8e",
   "outputs": [
    {
     "name": "stdout",
     "output_type": "stream",
     "text": [
      "(1168, 12)\n"
     ]
    }
   ],
   "execution_count": 8
  },
  {
   "metadata": {
    "ExecuteTime": {
     "end_time": "2025-03-31T08:11:37.265298Z",
     "start_time": "2025-03-31T08:11:37.245519Z"
    }
   },
   "cell_type": "code",
   "source": [
    "missing_val_count_by_column = (X_train.isnull().sum())\n",
    "print(missing_val_count_by_column[missing_val_count_by_column > 0])"
   ],
   "id": "76502db382fa3b85",
   "outputs": [
    {
     "name": "stdout",
     "output_type": "stream",
     "text": [
      "Series([], dtype: int64)\n"
     ]
    }
   ],
   "execution_count": 9
  },
  {
   "metadata": {
    "ExecuteTime": {
     "end_time": "2025-03-31T08:29:29.697560Z",
     "start_time": "2025-03-31T08:29:29.596099Z"
    }
   },
   "cell_type": "code",
   "source": [
    "X_train_selection.to_csv('data/train_data.csv', index=False)\n",
    "X_test_selection.to_csv('data/test_data.csv', index=False)"
   ],
   "id": "3c6ccb146475536",
   "outputs": [],
   "execution_count": 10
  }
 ],
 "metadata": {
  "kernelspec": {
   "display_name": "Python 3",
   "language": "python",
   "name": "python3"
  },
  "language_info": {
   "codemirror_mode": {
    "name": "ipython",
    "version": 2
   },
   "file_extension": ".py",
   "mimetype": "text/x-python",
   "name": "python",
   "nbconvert_exporter": "python",
   "pygments_lexer": "ipython2",
   "version": "2.7.6"
  }
 },
 "nbformat": 4,
 "nbformat_minor": 5
}
