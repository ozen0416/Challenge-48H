{
 "cells": [
  {
   "cell_type": "code",
   "metadata": {
    "ExecuteTime": {
     "end_time": "2025-03-31T11:58:19.852789Z",
     "start_time": "2025-03-31T11:58:19.848435Z"
    }
   },
   "source": [
    "import learn\n",
    "import pandas as pd\n",
    "from sklearn.model_selection import train_test_split"
   ],
   "outputs": [],
   "execution_count": 12
  },
  {
   "cell_type": "code",
   "metadata": {
    "ExecuteTime": {
     "end_time": "2025-03-31T11:58:19.888730Z",
     "start_time": "2025-03-31T11:58:19.864722Z"
    }
   },
   "source": [
    "X_full = pd.read_csv('data/train_data.csv')\n",
    "X_test_full = pd.read_csv('data/test_data.csv')\n",
    "\n",
    "\n",
    "# Sélection directe des colonnes demandées\n",
    "X_full = X_full[['LotArea', 'OverallQual', 'OverallCond', 'YearRemodAdd', 'GrLivArea', \n",
    "                'FullBath', 'BedroomAbvGr', 'KitchenQual', 'GarageCars', 'GarageArea', 'MoSold']]\n",
    "X_test_full = X_test_full[['LotArea', 'OverallQual', 'OverallCond', 'YearRemodAdd', 'GrLivArea', \n",
    "                         'FullBath', 'BedroomAbvGr', 'KitchenQual', 'GarageCars', 'GarageArea', 'MoSold']]\n",
    "\n",
    "# Ex (Excellet) > Gd (Good) > TA (Typical/Average)\n",
    "kitchen_qual_map = {'Ex': 3, 'Gd': 2, 'TA': 1, 'Fa':0}\n",
    "X_full['KitchenQual'] = X_full['KitchenQual'].map(kitchen_qual_map)\n",
    "X_test_full['KitchenQual'] = X_test_full['KitchenQual'].map(kitchen_qual_map)\n",
    "\n",
    "# Vérifier s'il y a des valeurs manquantes après la conversion\n",
    "print(\"Valeurs manquantes dans KitchenQual après conversion :\", \n",
    "      X_full['KitchenQual'].isna().sum(), \"dans X_full,\",\n",
    "      X_test_full['KitchenQual'].isna().sum(), \"dans X_test_full\")\n",
    "\n",
    "# Si des valeurs manquantes existent, les remplacer par la médiane\n",
    "if X_full['KitchenQual'].isna().sum() > 0:\n",
    "    X_full['KitchenQual'].fillna(X_full['KitchenQual'].median(), inplace=True)\n",
    "if X_test_full['KitchenQual'].isna().sum() > 0:\n",
    "    X_test_full['KitchenQual'].fillna(X_full['KitchenQual'].median(), inplace=True)\n",
    "\n",
    "X = X_full\n",
    "X_test = X_test_full\n",
    "\n",
    "X_train, X_valid, y_train, y_valid = train_test_split(X, X_test, train_size=0.8, test_size=0.2, random_state=0)"
   ],
   "outputs": [
    {
     "name": "stdout",
     "output_type": "stream",
     "text": [
      "Valeurs manquantes dans KitchenQual après conversion : 0 dans X_full, 1 dans X_test_full\n"
     ]
    },
    {
     "name": "stderr",
     "output_type": "stream",
     "text": [
      "C:\\Users\\enzol\\AppData\\Local\\Temp\\ipykernel_26752\\741527436.py:25: FutureWarning: A value is trying to be set on a copy of a DataFrame or Series through chained assignment using an inplace method.\n",
      "The behavior will change in pandas 3.0. This inplace method will never work because the intermediate object on which we are setting values always behaves as a copy.\n",
      "\n",
      "For example, when doing 'df[col].method(value, inplace=True)', try using 'df.method({col: value}, inplace=True)' or df[col] = df[col].method(value) instead, to perform the operation inplace on the original object.\n",
      "\n",
      "\n",
      "  X_test_full['KitchenQual'].fillna(X_full['KitchenQual'].median(), inplace=True)\n"
     ]
    }
   ],
   "execution_count": 13
  }
 ],
 "metadata": {
  "kernelspec": {
   "display_name": "Python 3",
   "language": "python",
   "name": "python3"
  },
  "language_info": {
   "name": "python",
   "version": "3.13.2"
  }
 },
 "nbformat": 4,
 "nbformat_minor": 2
}
