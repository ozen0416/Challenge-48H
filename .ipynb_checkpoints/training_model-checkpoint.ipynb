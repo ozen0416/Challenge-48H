{
 "cells": [
  {
   "metadata": {
    "ExecuteTime": {
     "end_time": "2025-03-31T12:38:54.628635Z",
     "start_time": "2025-03-31T12:38:52.309302Z"
    }
   },
   "cell_type": "code",
   "source": [
    "import learn\n",
    "import pandas as pd\n",
    "from sklearn.model_selection import train_test_split"
   ],
   "outputs": [],
   "execution_count": 1
  },
  {
   "metadata": {
    "ExecuteTime": {
     "end_time": "2025-03-31T12:38:55.389052Z",
     "start_time": "2025-03-31T12:38:54.665019Z"
    }
   },
   "cell_type": "code",
   "source": [
    "X_full = pd.read_csv('data/train_data.csv')\n",
    "X_test_full = pd.read_csv('data/test_data.csv')\n",
    "\n",
    "\n",
    "# Sélection directe des colonnes demandées\n",
    "X_full = X_full[['LotArea', 'OverallQual', 'OverallCond', 'YearRemodAdd', 'GrLivArea',\n",
    "                'FullBath', 'BedroomAbvGr', 'KitchenQual', 'GarageCars', 'GarageArea', 'MoSold']]\n",
    "X_test_full = X_test_full[['LotArea', 'OverallQual', 'OverallCond', 'YearRemodAdd', 'GrLivArea',\n",
    "                         'FullBath', 'BedroomAbvGr', 'KitchenQual', 'GarageCars', 'GarageArea', 'MoSold']]\n",
    "\n",
    "# Ex (Excellet) > Gd (Good) > TA (Typical/Average)\n",
    "kitchen_qual_map = {'Ex': 3, 'Gd': 2, 'TA': 1, 'Fa':0}\n",
    "X_full['KitchenQual'] = X_full['KitchenQual'].map(kitchen_qual_map)\n",
    "X_test_full['KitchenQual'] = X_test_full['KitchenQual'].map(kitchen_qual_map)\n",
    "\n",
    "# Vérifier s'il y a des valeurs manquantes après la conversion\n",
    "print(\"Valeurs manquantes dans KitchenQual après conversion :\",\n",
    "      X_full['KitchenQual'].isna().sum(), \"dans X_full,\",\n",
    "      X_test_full['KitchenQual'].isna().sum(), \"dans X_test_full\")\n",
    "\n",
    "# Si des valeurs manquantes existent, les remplacer par la médiane\n",
    "if X_full['KitchenQual'].isna().sum() > 0:\n",
    "    X_full['KitchenQual'].fillna(X_full['KitchenQual'].median(), inplace=True)\n",
    "if X_test_full['KitchenQual'].isna().sum() > 0:\n",
    "    X_test_full['KitchenQual'].fillna(X_full['KitchenQual'].median(), inplace=True)\n",
    "\n",
    "X = X_full\n",
    "X_test = X_test_full\n",
    "\n",
    "X_train, X_valid, y_train, y_valid = train_test_split(X, X_test, train_size=0.8, test_size=0.2, random_state=0)"
   ],
   "outputs": [
    {
     "name": "stdout",
     "output_type": "stream",
     "text": [
      "Valeurs manquantes dans KitchenQual après conversion : 0 dans X_full, 1 dans X_test_full\n"
     ]
    },
    {
     "name": "stderr",
     "output_type": "stream",
     "text": [
      "C:\\Users\\enzol\\AppData\\Local\\Temp\\ipykernel_27092\\741527436.py:25: FutureWarning: A value is trying to be set on a copy of a DataFrame or Series through chained assignment using an inplace method.\n",
      "The behavior will change in pandas 3.0. This inplace method will never work because the intermediate object on which we are setting values always behaves as a copy.\n",
      "\n",
      "For example, when doing 'df[col].method(value, inplace=True)', try using 'df.method({col: value}, inplace=True)' or df[col] = df[col].method(value) instead, to perform the operation inplace on the original object.\n",
      "\n",
      "\n",
      "  X_test_full['KitchenQual'].fillna(X_full['KitchenQual'].median(), inplace=True)\n"
     ]
    },
    {
     "ename": "ValueError",
     "evalue": "Found input variables with inconsistent numbers of samples: [1460, 1458]",
     "output_type": "error",
     "traceback": [
      "\u001B[31m---------------------------------------------------------------------------\u001B[39m",
      "\u001B[31mValueError\u001B[39m                                Traceback (most recent call last)",
      "\u001B[36mCell\u001B[39m\u001B[36m \u001B[39m\u001B[32mIn[2]\u001B[39m\u001B[32m, line 30\u001B[39m\n\u001B[32m     27\u001B[39m X = X_full\n\u001B[32m     28\u001B[39m X_test = X_test_full\n\u001B[32m---> \u001B[39m\u001B[32m30\u001B[39m X_train, X_valid, y_train, y_valid = \u001B[43mtrain_test_split\u001B[49m\u001B[43m(\u001B[49m\u001B[43mX\u001B[49m\u001B[43m,\u001B[49m\u001B[43m \u001B[49m\u001B[43mX_test\u001B[49m\u001B[43m,\u001B[49m\u001B[43m \u001B[49m\u001B[43mtrain_size\u001B[49m\u001B[43m=\u001B[49m\u001B[32;43m0.8\u001B[39;49m\u001B[43m,\u001B[49m\u001B[43m \u001B[49m\u001B[43mtest_size\u001B[49m\u001B[43m=\u001B[49m\u001B[32;43m0.2\u001B[39;49m\u001B[43m,\u001B[49m\u001B[43m \u001B[49m\u001B[43mrandom_state\u001B[49m\u001B[43m=\u001B[49m\u001B[32;43m0\u001B[39;49m\u001B[43m)\u001B[49m\n",
      "\u001B[36mFile \u001B[39m\u001B[32m~\\Desktop\\Python\\mon_env\\Lib\\site-packages\\sklearn\\utils\\_param_validation.py:216\u001B[39m, in \u001B[36mvalidate_params.<locals>.decorator.<locals>.wrapper\u001B[39m\u001B[34m(*args, **kwargs)\u001B[39m\n\u001B[32m    210\u001B[39m \u001B[38;5;28;01mtry\u001B[39;00m:\n\u001B[32m    211\u001B[39m     \u001B[38;5;28;01mwith\u001B[39;00m config_context(\n\u001B[32m    212\u001B[39m         skip_parameter_validation=(\n\u001B[32m    213\u001B[39m             prefer_skip_nested_validation \u001B[38;5;129;01mor\u001B[39;00m global_skip_validation\n\u001B[32m    214\u001B[39m         )\n\u001B[32m    215\u001B[39m     ):\n\u001B[32m--> \u001B[39m\u001B[32m216\u001B[39m         \u001B[38;5;28;01mreturn\u001B[39;00m \u001B[43mfunc\u001B[49m\u001B[43m(\u001B[49m\u001B[43m*\u001B[49m\u001B[43margs\u001B[49m\u001B[43m,\u001B[49m\u001B[43m \u001B[49m\u001B[43m*\u001B[49m\u001B[43m*\u001B[49m\u001B[43mkwargs\u001B[49m\u001B[43m)\u001B[49m\n\u001B[32m    217\u001B[39m \u001B[38;5;28;01mexcept\u001B[39;00m InvalidParameterError \u001B[38;5;28;01mas\u001B[39;00m e:\n\u001B[32m    218\u001B[39m     \u001B[38;5;66;03m# When the function is just a wrapper around an estimator, we allow\u001B[39;00m\n\u001B[32m    219\u001B[39m     \u001B[38;5;66;03m# the function to delegate validation to the estimator, but we replace\u001B[39;00m\n\u001B[32m    220\u001B[39m     \u001B[38;5;66;03m# the name of the estimator by the name of the function in the error\u001B[39;00m\n\u001B[32m    221\u001B[39m     \u001B[38;5;66;03m# message to avoid confusion.\u001B[39;00m\n\u001B[32m    222\u001B[39m     msg = re.sub(\n\u001B[32m    223\u001B[39m         \u001B[33mr\u001B[39m\u001B[33m\"\u001B[39m\u001B[33mparameter of \u001B[39m\u001B[33m\\\u001B[39m\u001B[33mw+ must be\u001B[39m\u001B[33m\"\u001B[39m,\n\u001B[32m    224\u001B[39m         \u001B[33mf\u001B[39m\u001B[33m\"\u001B[39m\u001B[33mparameter of \u001B[39m\u001B[38;5;132;01m{\u001B[39;00mfunc.\u001B[34m__qualname__\u001B[39m\u001B[38;5;132;01m}\u001B[39;00m\u001B[33m must be\u001B[39m\u001B[33m\"\u001B[39m,\n\u001B[32m    225\u001B[39m         \u001B[38;5;28mstr\u001B[39m(e),\n\u001B[32m    226\u001B[39m     )\n",
      "\u001B[36mFile \u001B[39m\u001B[32m~\\Desktop\\Python\\mon_env\\Lib\\site-packages\\sklearn\\model_selection\\_split.py:2848\u001B[39m, in \u001B[36mtrain_test_split\u001B[39m\u001B[34m(test_size, train_size, random_state, shuffle, stratify, *arrays)\u001B[39m\n\u001B[32m   2845\u001B[39m \u001B[38;5;28;01mif\u001B[39;00m n_arrays == \u001B[32m0\u001B[39m:\n\u001B[32m   2846\u001B[39m     \u001B[38;5;28;01mraise\u001B[39;00m \u001B[38;5;167;01mValueError\u001B[39;00m(\u001B[33m\"\u001B[39m\u001B[33mAt least one array required as input\u001B[39m\u001B[33m\"\u001B[39m)\n\u001B[32m-> \u001B[39m\u001B[32m2848\u001B[39m arrays = \u001B[43mindexable\u001B[49m\u001B[43m(\u001B[49m\u001B[43m*\u001B[49m\u001B[43marrays\u001B[49m\u001B[43m)\u001B[49m\n\u001B[32m   2850\u001B[39m n_samples = _num_samples(arrays[\u001B[32m0\u001B[39m])\n\u001B[32m   2851\u001B[39m n_train, n_test = _validate_shuffle_split(\n\u001B[32m   2852\u001B[39m     n_samples, test_size, train_size, default_test_size=\u001B[32m0.25\u001B[39m\n\u001B[32m   2853\u001B[39m )\n",
      "\u001B[36mFile \u001B[39m\u001B[32m~\\Desktop\\Python\\mon_env\\Lib\\site-packages\\sklearn\\utils\\validation.py:532\u001B[39m, in \u001B[36mindexable\u001B[39m\u001B[34m(*iterables)\u001B[39m\n\u001B[32m    502\u001B[39m \u001B[38;5;250m\u001B[39m\u001B[33;03m\"\"\"Make arrays indexable for cross-validation.\u001B[39;00m\n\u001B[32m    503\u001B[39m \n\u001B[32m    504\u001B[39m \u001B[33;03mChecks consistent length, passes through None, and ensures that everything\u001B[39;00m\n\u001B[32m   (...)\u001B[39m\u001B[32m    528\u001B[39m \u001B[33;03m[[1, 2, 3], array([2, 3, 4]), None, <...Sparse...dtype 'int64'...shape (3, 1)>]\u001B[39;00m\n\u001B[32m    529\u001B[39m \u001B[33;03m\"\"\"\u001B[39;00m\n\u001B[32m    531\u001B[39m result = [_make_indexable(X) \u001B[38;5;28;01mfor\u001B[39;00m X \u001B[38;5;129;01min\u001B[39;00m iterables]\n\u001B[32m--> \u001B[39m\u001B[32m532\u001B[39m \u001B[43mcheck_consistent_length\u001B[49m\u001B[43m(\u001B[49m\u001B[43m*\u001B[49m\u001B[43mresult\u001B[49m\u001B[43m)\u001B[49m\n\u001B[32m    533\u001B[39m \u001B[38;5;28;01mreturn\u001B[39;00m result\n",
      "\u001B[36mFile \u001B[39m\u001B[32m~\\Desktop\\Python\\mon_env\\Lib\\site-packages\\sklearn\\utils\\validation.py:475\u001B[39m, in \u001B[36mcheck_consistent_length\u001B[39m\u001B[34m(*arrays)\u001B[39m\n\u001B[32m    473\u001B[39m uniques = np.unique(lengths)\n\u001B[32m    474\u001B[39m \u001B[38;5;28;01mif\u001B[39;00m \u001B[38;5;28mlen\u001B[39m(uniques) > \u001B[32m1\u001B[39m:\n\u001B[32m--> \u001B[39m\u001B[32m475\u001B[39m     \u001B[38;5;28;01mraise\u001B[39;00m \u001B[38;5;167;01mValueError\u001B[39;00m(\n\u001B[32m    476\u001B[39m         \u001B[33m\"\u001B[39m\u001B[33mFound input variables with inconsistent numbers of samples: \u001B[39m\u001B[38;5;132;01m%r\u001B[39;00m\u001B[33m\"\u001B[39m\n\u001B[32m    477\u001B[39m         % [\u001B[38;5;28mint\u001B[39m(l) \u001B[38;5;28;01mfor\u001B[39;00m l \u001B[38;5;129;01min\u001B[39;00m lengths]\n\u001B[32m    478\u001B[39m     )\n",
      "\u001B[31mValueError\u001B[39m: Found input variables with inconsistent numbers of samples: [1460, 1458]"
     ]
    }
   ],
   "execution_count": 2
  }
 ],
 "metadata": {
  "kernelspec": {
   "display_name": "Python 3",
   "language": "python",
   "name": "python3"
  },
  "language_info": {
   "name": "python",
   "version": "3.13.2"
  }
 },
 "nbformat": 4,
 "nbformat_minor": 2
}
